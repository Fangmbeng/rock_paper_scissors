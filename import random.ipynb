{
 "cells": [
  {
   "cell_type": "code",
   "execution_count": 1,
   "metadata": {},
   "outputs": [
    {
     "name": "stdout",
     "output_type": "stream",
     "text": [
      "rock\n",
      " Tie results\n",
      "paper\n",
      " Tie results\n",
      "Invalid Syntax, Please try again\n",
      "paper\n",
      " you loose\n",
      "rock\n",
      " you lose\n",
      "Invalid Syntax, Please try again\n",
      "scissors\n",
      " Tie results\n",
      "rock\n",
      " you win\n",
      "rock\n",
      " Tie results\n"
     ]
    }
   ],
   "source": [
    "import random\n",
    "\n",
    "def start():\n",
    "    choic = input(\"rock, paper, or scissors: \")\n",
    "    return choic\n",
    "\n",
    "def game():\n",
    "    play = start()\n",
    "    results = \" \"\n",
    "    list1 = [\"paper\", \"rock\", \"scissors\"]\n",
    "    random_chose = random.choice(list1)\n",
    "    if play == random_chose:\n",
    "        results += \"Tie results\"\n",
    "        print(random_chose)\n",
    "        return results\n",
    "    elif play == \"paper\" and random_chose == \"rock\":\n",
    "        results += \"you win\"\n",
    "        print(random_chose)\n",
    "        return results\n",
    "    elif play == \"paper\" and random_chose == \"scissors\":\n",
    "        results += \"you loose\"\n",
    "        print(random_chose)\n",
    "        return results\n",
    "    elif play == \"rock\" and random_chose == \"paper\":\n",
    "        results += \"you loose\"\n",
    "        print(random_chose)\n",
    "        return results\n",
    "    elif play == \"rock\" and random_chose == \"scissors\":\n",
    "        results += \"you win\"\n",
    "        print(random_chose)\n",
    "        return results\n",
    "    elif play == 'scissors' and random_chose == \"paper\":\n",
    "        results += \"you win\"\n",
    "        print(random_chose)\n",
    "        return results\n",
    "    elif play == \"scissors\" and random_chose == 'rock':\n",
    "        results += \"you lose\"\n",
    "        print(random_chose)\n",
    "        return results\n",
    "    else:\n",
    "        return 'Invalid Input'\n",
    "\n",
    "def app():\n",
    "    test = game()\n",
    "    print(test)\n",
    "    choose = input(\"Continue or quit: \")\n",
    "    if choose.lower() == \"continue\":\n",
    "        return app()\n",
    "    elif choose.lower() == \"quit\":\n",
    "        return \"Game Ended\"\n",
    "    else:\n",
    "        print(\"Invalid Syntax, Please try again\")\n",
    "        return app()\n",
    "\n",
    "\n",
    "print(app())"
   ]
  }
 ],
 "metadata": {
  "kernelspec": {
   "display_name": "Python 3",
   "language": "python",
   "name": "python3"
  },
  "language_info": {
   "codemirror_mode": {
    "name": "ipython",
    "version": 3
   },
   "file_extension": ".py",
   "mimetype": "text/x-python",
   "name": "python",
   "nbconvert_exporter": "python",
   "pygments_lexer": "ipython3",
   "version": "3.9.1"
  },
  "orig_nbformat": 4
 },
 "nbformat": 4,
 "nbformat_minor": 2
}
